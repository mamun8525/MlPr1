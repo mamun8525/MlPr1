{
 "cells": [
  {
   "cell_type": "code",
   "execution_count": 1,
   "id": "78891f22-9807-4aed-bbca-fefa0215db39",
   "metadata": {},
   "outputs": [
    {
     "name": "stdout",
     "output_type": "stream",
     "text": [
      "Bismillahir rahmanir rahim\n"
     ]
    }
   ],
   "source": [
    "print('Bismillahir rahmanir rahim')"
   ]
  },
  {
   "cell_type": "code",
   "execution_count": null,
   "id": "42781f7a-dad8-4e95-ab6d-09780ffb440f",
   "metadata": {},
   "outputs": [],
   "source": []
  }
 ],
 "metadata": {
  "kernelspec": {
   "display_name": "Python 3 (ipykernel)",
   "language": "python",
   "name": "python3"
  },
  "language_info": {
   "codemirror_mode": {
    "name": "ipython",
    "version": 3
   },
   "file_extension": ".py",
   "mimetype": "text/x-python",
   "name": "python",
   "nbconvert_exporter": "python",
   "pygments_lexer": "ipython3",
   "version": "3.11.7"
  }
 },
 "nbformat": 4,
 "nbformat_minor": 5
}
