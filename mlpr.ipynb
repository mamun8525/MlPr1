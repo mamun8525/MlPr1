{
 "cells": [
  {
   "cell_type": "code",
   "execution_count": 1,
   "id": "78891f22-9807-4aed-bbca-fefa0215db39",
   "metadata": {},
   "outputs": [
    {
     "data": {
      "text/plain": [
       "'Bismillahir rahmanir rahim'"
      ]
     },
     "execution_count": 1,
     "metadata": {},
     "output_type": "execute_result"
    }
   ],
   "source": [
    "word= 'Bismillahir rahmanir rahim '\n",
    "word.rstrip()"
   ]
  },
  {
   "cell_type": "code",
   "execution_count": 2,
   "id": "42781f7a-dad8-4e95-ab6d-09780ffb440f",
   "metadata": {},
   "outputs": [],
   "source": [
    "tasks = ['python','genkibook','vocabulary','Ml book']"
   ]
  },
  {
   "cell_type": "code",
   "execution_count": 3,
   "id": "574bec76-7511-43a5-ac28-9bd6aae11bc8",
   "metadata": {},
   "outputs": [
    {
     "name": "stdout",
     "output_type": "stream",
     "text": [
      "Ml Book\n"
     ]
    }
   ],
   "source": [
    "print(tasks[-1].title())"
   ]
  },
  {
   "cell_type": "code",
   "execution_count": 4,
   "id": "d537b693-3bf5-43ee-81a9-29a4e907b56e",
   "metadata": {},
   "outputs": [],
   "source": [
    "message = f\" most hard task will be '{tasks[-2].title()}'\""
   ]
  },
  {
   "cell_type": "code",
   "execution_count": 5,
   "id": "9bf0460d-f0ca-4ba6-8055-70217e4f4acd",
   "metadata": {},
   "outputs": [
    {
     "name": "stdout",
     "output_type": "stream",
     "text": [
      " most hard task will be 'Vocabulary'\n"
     ]
    }
   ],
   "source": [
    "print(message)"
   ]
  },
  {
   "cell_type": "code",
   "execution_count": null,
   "id": "bfe363c5-7082-414d-8fcb-f55dc103fc2b",
   "metadata": {},
   "outputs": [],
   "source": []
  }
 ],
 "metadata": {
  "kernelspec": {
   "display_name": "Python 3 (ipykernel)",
   "language": "python",
   "name": "python3"
  },
  "language_info": {
   "codemirror_mode": {
    "name": "ipython",
    "version": 3
   },
   "file_extension": ".py",
   "mimetype": "text/x-python",
   "name": "python",
   "nbconvert_exporter": "python",
   "pygments_lexer": "ipython3",
   "version": "3.11.7"
  }
 },
 "nbformat": 4,
 "nbformat_minor": 5
}
